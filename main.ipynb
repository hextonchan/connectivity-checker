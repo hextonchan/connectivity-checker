{
 "cells": [
  {
   "cell_type": "code",
   "execution_count": null,
   "metadata": {},
   "outputs": [],
   "source": [
    "import os\n",
    "from dotenv import load_dotenv\n",
    "try:\n",
    "    load_dotenv(dotenv_path='/home/connectivity-checker/.env', override=True)\n",
    "except:\n",
    "    try:\n",
    "        load_dotenv()\n",
    "    except:\n",
    "        pass\n",
    "    \n",
    "from utils.logging import Logging\n",
    "from utils.mq import MQ\n",
    "from utils.bigquery import BigQuery\n",
    "\n",
    "logger = Logging(__name__).init()\n",
    "mq = MQ().from_json_config(os.environ.get('CONFIG_MQ'), 'ASM')\n",
    "bigquery_dml = BigQuery().connect(os.environ.get('SECRET_GSERVICE_DML'))\n",
    "\n",
    "from sqls.asm_con import sql\n",
    "\n",
    "bigquery_dml. sql.get_select_msg_payload('dml-prod')\n"
   ]
  },
  {
   "cell_type": "code",
   "execution_count": null,
   "metadata": {},
   "outputs": [],
   "source": [
    "from sqls.asm_con import sql\n",
    "\n",
    "bigquery_dml. sql.get_select_msg_payload('dml-prod')"
   ]
  }
 ],
 "metadata": {
  "kernelspec": {
   "display_name": "venv",
   "language": "python",
   "name": "python3"
  },
  "language_info": {
   "codemirror_mode": {
    "name": "ipython",
    "version": 3
   },
   "file_extension": ".py",
   "mimetype": "text/x-python",
   "name": "python",
   "nbconvert_exporter": "python",
   "pygments_lexer": "ipython3",
   "version": "3.10.12"
  }
 },
 "nbformat": 4,
 "nbformat_minor": 2
}
